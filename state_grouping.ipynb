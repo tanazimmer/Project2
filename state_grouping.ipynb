{
 "metadata": {
  "language_info": {
   "codemirror_mode": {
    "name": "ipython",
    "version": 3
   },
   "file_extension": ".py",
   "mimetype": "text/x-python",
   "name": "python",
   "nbconvert_exporter": "python",
   "pygments_lexer": "ipython3",
   "version": "3.6.10-final"
  },
  "orig_nbformat": 2,
  "kernelspec": {
   "name": "python3",
   "display_name": "Python 3.6.10 64-bit ('PythonData': conda)",
   "metadata": {
    "interpreter": {
     "hash": "a8cad22101f50955fe7cec57e45762161dbdc9b8e7c1ec65e4965f55e9e17ae3"
    }
   }
  }
 },
 "nbformat": 4,
 "nbformat_minor": 2,
 "cells": [
  {
   "cell_type": "code",
   "execution_count": 211,
   "metadata": {},
   "outputs": [],
   "source": [
    "# import\n",
    "import pandas as pd\n",
    "import numpy as np"
   ]
  },
  {
   "cell_type": "code",
   "execution_count": 212,
   "metadata": {},
   "outputs": [
    {
     "output_type": "execute_result",
     "data": {
      "text/plain": [
       "   incident_id  data_year pub_agency_name agency_type_name state_abbr  \\\n",
       "0        15761       1993       Anchorage             City         AK   \n",
       "1        15762       1993       Anchorage             City         AK   \n",
       "2        15763       1993       Anchorage             City         AK   \n",
       "3        15764       1993       Anchorage             City         AK   \n",
       "4        15765       1993       Anchorage             City         AK   \n",
       "\n",
       "  state_name region_name incident_date  total_individual_victims  \\\n",
       "0     Alaska        West     14-FEB-93                       2.0   \n",
       "1     Alaska        West     24-MAR-93                       2.0   \n",
       "2     Alaska        West     02-JUL-93                       1.0   \n",
       "3     Alaska        West     07-JUL-93                       1.0   \n",
       "4     Alaska        West     12-JUL-93                       1.0   \n",
       "\n",
       "                        bias_desc    administration  \n",
       "0                 Anti-Gay (Male)  Clinton 1st Term  \n",
       "1  Anti-Black or African American  Clinton 1st Term  \n",
       "2  Anti-Black or African American  Clinton 1st Term  \n",
       "3                      Anti-White  Clinton 1st Term  \n",
       "4                      Anti-Asian  Clinton 1st Term  "
      ],
      "text/html": "<div>\n<style scoped>\n    .dataframe tbody tr th:only-of-type {\n        vertical-align: middle;\n    }\n\n    .dataframe tbody tr th {\n        vertical-align: top;\n    }\n\n    .dataframe thead th {\n        text-align: right;\n    }\n</style>\n<table border=\"1\" class=\"dataframe\">\n  <thead>\n    <tr style=\"text-align: right;\">\n      <th></th>\n      <th>incident_id</th>\n      <th>data_year</th>\n      <th>pub_agency_name</th>\n      <th>agency_type_name</th>\n      <th>state_abbr</th>\n      <th>state_name</th>\n      <th>region_name</th>\n      <th>incident_date</th>\n      <th>total_individual_victims</th>\n      <th>bias_desc</th>\n      <th>administration</th>\n    </tr>\n  </thead>\n  <tbody>\n    <tr>\n      <th>0</th>\n      <td>15761</td>\n      <td>1993</td>\n      <td>Anchorage</td>\n      <td>City</td>\n      <td>AK</td>\n      <td>Alaska</td>\n      <td>West</td>\n      <td>14-FEB-93</td>\n      <td>2.0</td>\n      <td>Anti-Gay (Male)</td>\n      <td>Clinton 1st Term</td>\n    </tr>\n    <tr>\n      <th>1</th>\n      <td>15762</td>\n      <td>1993</td>\n      <td>Anchorage</td>\n      <td>City</td>\n      <td>AK</td>\n      <td>Alaska</td>\n      <td>West</td>\n      <td>24-MAR-93</td>\n      <td>2.0</td>\n      <td>Anti-Black or African American</td>\n      <td>Clinton 1st Term</td>\n    </tr>\n    <tr>\n      <th>2</th>\n      <td>15763</td>\n      <td>1993</td>\n      <td>Anchorage</td>\n      <td>City</td>\n      <td>AK</td>\n      <td>Alaska</td>\n      <td>West</td>\n      <td>02-JUL-93</td>\n      <td>1.0</td>\n      <td>Anti-Black or African American</td>\n      <td>Clinton 1st Term</td>\n    </tr>\n    <tr>\n      <th>3</th>\n      <td>15764</td>\n      <td>1993</td>\n      <td>Anchorage</td>\n      <td>City</td>\n      <td>AK</td>\n      <td>Alaska</td>\n      <td>West</td>\n      <td>07-JUL-93</td>\n      <td>1.0</td>\n      <td>Anti-White</td>\n      <td>Clinton 1st Term</td>\n    </tr>\n    <tr>\n      <th>4</th>\n      <td>15765</td>\n      <td>1993</td>\n      <td>Anchorage</td>\n      <td>City</td>\n      <td>AK</td>\n      <td>Alaska</td>\n      <td>West</td>\n      <td>12-JUL-93</td>\n      <td>1.0</td>\n      <td>Anti-Asian</td>\n      <td>Clinton 1st Term</td>\n    </tr>\n  </tbody>\n</table>\n</div>"
     },
     "metadata": {},
     "execution_count": 212
    }
   ],
   "source": [
    "cleaned_hate_crimeDF = pd.read_csv('cleaned_hate_crime.csv')\n",
    "cleaned_hate_crimeDF.head()"
   ]
  },
  {
   "cell_type": "code",
   "execution_count": 213,
   "metadata": {},
   "outputs": [
    {
     "output_type": "execute_result",
     "data": {
      "text/plain": [
       "   data_year state_abbr  total_individual_victims    administration\n",
       "0       1993         AK                       2.0  Clinton 1st Term\n",
       "1       1993         AK                       2.0  Clinton 1st Term\n",
       "2       1993         AK                       1.0  Clinton 1st Term\n",
       "3       1993         AK                       1.0  Clinton 1st Term\n",
       "4       1993         AK                       1.0  Clinton 1st Term"
      ],
      "text/html": "<div>\n<style scoped>\n    .dataframe tbody tr th:only-of-type {\n        vertical-align: middle;\n    }\n\n    .dataframe tbody tr th {\n        vertical-align: top;\n    }\n\n    .dataframe thead th {\n        text-align: right;\n    }\n</style>\n<table border=\"1\" class=\"dataframe\">\n  <thead>\n    <tr style=\"text-align: right;\">\n      <th></th>\n      <th>data_year</th>\n      <th>state_abbr</th>\n      <th>total_individual_victims</th>\n      <th>administration</th>\n    </tr>\n  </thead>\n  <tbody>\n    <tr>\n      <th>0</th>\n      <td>1993</td>\n      <td>AK</td>\n      <td>2.0</td>\n      <td>Clinton 1st Term</td>\n    </tr>\n    <tr>\n      <th>1</th>\n      <td>1993</td>\n      <td>AK</td>\n      <td>2.0</td>\n      <td>Clinton 1st Term</td>\n    </tr>\n    <tr>\n      <th>2</th>\n      <td>1993</td>\n      <td>AK</td>\n      <td>1.0</td>\n      <td>Clinton 1st Term</td>\n    </tr>\n    <tr>\n      <th>3</th>\n      <td>1993</td>\n      <td>AK</td>\n      <td>1.0</td>\n      <td>Clinton 1st Term</td>\n    </tr>\n    <tr>\n      <th>4</th>\n      <td>1993</td>\n      <td>AK</td>\n      <td>1.0</td>\n      <td>Clinton 1st Term</td>\n    </tr>\n  </tbody>\n</table>\n</div>"
     },
     "metadata": {},
     "execution_count": 213
    }
   ],
   "source": [
    "state_df = cleaned_hate_crimeDF[['data_year', 'state_abbr', 'total_individual_victims', 'administration']]\n",
    "state_df.head()"
   ]
  },
  {
   "cell_type": "code",
   "execution_count": 224,
   "metadata": {},
   "outputs": [
    {
     "output_type": "execute_result",
     "data": {
      "text/plain": [
       "        administration  data_year state_abbr  victims\n",
       "0     Clinton 1st Term       1993         AK       24\n",
       "1     Clinton 1st Term       1993         AL        5\n",
       "2     Clinton 1st Term       1993         AR       13\n",
       "3     Clinton 1st Term       1993         AZ      208\n",
       "4     Clinton 1st Term       1993         CA      364\n",
       "...                ...        ...        ...      ...\n",
       "1262  W. Bush 2nd Term       2008         VT       22\n",
       "1263  W. Bush 2nd Term       2008         WA      240\n",
       "1264  W. Bush 2nd Term       2008         WI       95\n",
       "1265  W. Bush 2nd Term       2008         WV       46\n",
       "1266  W. Bush 2nd Term       2008         WY        6\n",
       "\n",
       "[1267 rows x 4 columns]"
      ],
      "text/html": "<div>\n<style scoped>\n    .dataframe tbody tr th:only-of-type {\n        vertical-align: middle;\n    }\n\n    .dataframe tbody tr th {\n        vertical-align: top;\n    }\n\n    .dataframe thead th {\n        text-align: right;\n    }\n</style>\n<table border=\"1\" class=\"dataframe\">\n  <thead>\n    <tr style=\"text-align: right;\">\n      <th></th>\n      <th>administration</th>\n      <th>data_year</th>\n      <th>state_abbr</th>\n      <th>victims</th>\n    </tr>\n  </thead>\n  <tbody>\n    <tr>\n      <th>0</th>\n      <td>Clinton 1st Term</td>\n      <td>1993</td>\n      <td>AK</td>\n      <td>24</td>\n    </tr>\n    <tr>\n      <th>1</th>\n      <td>Clinton 1st Term</td>\n      <td>1993</td>\n      <td>AL</td>\n      <td>5</td>\n    </tr>\n    <tr>\n      <th>2</th>\n      <td>Clinton 1st Term</td>\n      <td>1993</td>\n      <td>AR</td>\n      <td>13</td>\n    </tr>\n    <tr>\n      <th>3</th>\n      <td>Clinton 1st Term</td>\n      <td>1993</td>\n      <td>AZ</td>\n      <td>208</td>\n    </tr>\n    <tr>\n      <th>4</th>\n      <td>Clinton 1st Term</td>\n      <td>1993</td>\n      <td>CA</td>\n      <td>364</td>\n    </tr>\n    <tr>\n      <th>...</th>\n      <td>...</td>\n      <td>...</td>\n      <td>...</td>\n      <td>...</td>\n    </tr>\n    <tr>\n      <th>1262</th>\n      <td>W. Bush 2nd Term</td>\n      <td>2008</td>\n      <td>VT</td>\n      <td>22</td>\n    </tr>\n    <tr>\n      <th>1263</th>\n      <td>W. Bush 2nd Term</td>\n      <td>2008</td>\n      <td>WA</td>\n      <td>240</td>\n    </tr>\n    <tr>\n      <th>1264</th>\n      <td>W. Bush 2nd Term</td>\n      <td>2008</td>\n      <td>WI</td>\n      <td>95</td>\n    </tr>\n    <tr>\n      <th>1265</th>\n      <td>W. Bush 2nd Term</td>\n      <td>2008</td>\n      <td>WV</td>\n      <td>46</td>\n    </tr>\n    <tr>\n      <th>1266</th>\n      <td>W. Bush 2nd Term</td>\n      <td>2008</td>\n      <td>WY</td>\n      <td>6</td>\n    </tr>\n  </tbody>\n</table>\n<p>1267 rows × 4 columns</p>\n</div>"
     },
     "metadata": {},
     "execution_count": 224
    }
   ],
   "source": [
    "map_df = state_df.groupby(['administration', 'data_year', 'state_abbr']).total_individual_victims.count().to_frame(name = 'victims').reset_index()\n",
    "map_df"
   ]
  },
  {
   "cell_type": "code",
   "execution_count": 225,
   "metadata": {},
   "outputs": [],
   "source": [
    "map_df.to_csv('victims_by_state.csv',index = False)"
   ]
  },
  {
   "cell_type": "code",
   "execution_count": null,
   "metadata": {},
   "outputs": [],
   "source": []
  },
  {
   "cell_type": "code",
   "execution_count": null,
   "metadata": {},
   "outputs": [],
   "source": []
  }
 ]
}