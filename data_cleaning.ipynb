{
 "metadata": {
  "language_info": {
   "codemirror_mode": {
    "name": "ipython",
    "version": 3
   },
   "file_extension": ".py",
   "mimetype": "text/x-python",
   "name": "python",
   "nbconvert_exporter": "python",
   "pygments_lexer": "ipython3",
   "version": "3.6.10-final"
  },
  "orig_nbformat": 2,
  "kernelspec": {
   "name": "python361064bitpythondataconda42b1a4b937d74ffb97a84dbea7d24f9d",
   "display_name": "Python 3.6.10 64-bit ('PythonData': conda)"
  }
 },
 "nbformat": 4,
 "nbformat_minor": 2,
 "cells": [
  {
   "cell_type": "code",
   "execution_count": 1,
   "metadata": {},
   "outputs": [],
   "source": [
    "# import\n",
    "import pandas as pd\n",
    "import numpy as np"
   ]
  },
  {
   "cell_type": "code",
   "execution_count": 14,
   "metadata": {},
   "outputs": [
    {
     "output_type": "execute_result",
     "data": {
      "text/plain": [
       "   INCIDENT_ID  DATA_YEAR        ORI PUB_AGENCY_NAME PUB_AGENCY_UNIT  \\\n",
       "0         3015       1991  AR0040200          Rogers             NaN   \n",
       "1         3016       1991  AR0290100            Hope             NaN   \n",
       "2           43       1991  AR0350100      Pine Bluff             NaN   \n",
       "3           44       1991  AR0350100      Pine Bluff             NaN   \n",
       "4         3017       1991  AR0350100      Pine Bluff             NaN   \n",
       "\n",
       "  AGENCY_TYPE_NAME STATE_ABBR STATE_NAME       DIVISION_NAME REGION_NAME  ...  \\\n",
       "0             City         AR   Arkansas  West South Central       South  ...   \n",
       "1             City         AR   Arkansas  West South Central       South  ...   \n",
       "2             City         AR   Arkansas  West South Central       South  ...   \n",
       "3             City         AR   Arkansas  West South Central       South  ...   \n",
       "4             City         AR   Arkansas  West South Central       South  ...   \n",
       "\n",
       "               OFFENDER_RACE OFFENDER_ETHNICITY VICTIM_COUNT  \\\n",
       "0                      White                NaN            1   \n",
       "1  Black or African American                NaN            1   \n",
       "2  Black or African American                NaN            1   \n",
       "3  Black or African American                NaN            2   \n",
       "4  Black or African American                NaN            1   \n",
       "\n",
       "                                        OFFENSE_NAME  \\\n",
       "0                                       Intimidation   \n",
       "1                                     Simple Assault   \n",
       "2                                 Aggravated Assault   \n",
       "3  Aggravated Assault;Destruction/Damage/Vandalis...   \n",
       "4                                 Aggravated Assault   \n",
       "\n",
       "   TOTAL_INDIVIDUAL_VICTIMS                       LOCATION_NAME  \\\n",
       "0                       1.0  Highway/Road/Alley/Street/Sidewalk   \n",
       "1                       1.0  Highway/Road/Alley/Street/Sidewalk   \n",
       "2                       1.0                      Residence/Home   \n",
       "3                       1.0  Highway/Road/Alley/Street/Sidewalk   \n",
       "4                       1.0                 Service/Gas Station   \n",
       "\n",
       "                        BIAS_DESC  VICTIM_TYPES MULTIPLE_OFFENSE MULTIPLE_BIAS  \n",
       "0  Anti-Black or African American    Individual                S             S  \n",
       "1                      Anti-White    Individual                S             S  \n",
       "2  Anti-Black or African American    Individual                S             S  \n",
       "3                      Anti-White    Individual                M             S  \n",
       "4                      Anti-White    Individual                S             S  \n",
       "\n",
       "[5 rows x 28 columns]"
      ],
      "text/html": "<div>\n<style scoped>\n    .dataframe tbody tr th:only-of-type {\n        vertical-align: middle;\n    }\n\n    .dataframe tbody tr th {\n        vertical-align: top;\n    }\n\n    .dataframe thead th {\n        text-align: right;\n    }\n</style>\n<table border=\"1\" class=\"dataframe\">\n  <thead>\n    <tr style=\"text-align: right;\">\n      <th></th>\n      <th>INCIDENT_ID</th>\n      <th>DATA_YEAR</th>\n      <th>ORI</th>\n      <th>PUB_AGENCY_NAME</th>\n      <th>PUB_AGENCY_UNIT</th>\n      <th>AGENCY_TYPE_NAME</th>\n      <th>STATE_ABBR</th>\n      <th>STATE_NAME</th>\n      <th>DIVISION_NAME</th>\n      <th>REGION_NAME</th>\n      <th>...</th>\n      <th>OFFENDER_RACE</th>\n      <th>OFFENDER_ETHNICITY</th>\n      <th>VICTIM_COUNT</th>\n      <th>OFFENSE_NAME</th>\n      <th>TOTAL_INDIVIDUAL_VICTIMS</th>\n      <th>LOCATION_NAME</th>\n      <th>BIAS_DESC</th>\n      <th>VICTIM_TYPES</th>\n      <th>MULTIPLE_OFFENSE</th>\n      <th>MULTIPLE_BIAS</th>\n    </tr>\n  </thead>\n  <tbody>\n    <tr>\n      <th>0</th>\n      <td>3015</td>\n      <td>1991</td>\n      <td>AR0040200</td>\n      <td>Rogers</td>\n      <td>NaN</td>\n      <td>City</td>\n      <td>AR</td>\n      <td>Arkansas</td>\n      <td>West South Central</td>\n      <td>South</td>\n      <td>...</td>\n      <td>White</td>\n      <td>NaN</td>\n      <td>1</td>\n      <td>Intimidation</td>\n      <td>1.0</td>\n      <td>Highway/Road/Alley/Street/Sidewalk</td>\n      <td>Anti-Black or African American</td>\n      <td>Individual</td>\n      <td>S</td>\n      <td>S</td>\n    </tr>\n    <tr>\n      <th>1</th>\n      <td>3016</td>\n      <td>1991</td>\n      <td>AR0290100</td>\n      <td>Hope</td>\n      <td>NaN</td>\n      <td>City</td>\n      <td>AR</td>\n      <td>Arkansas</td>\n      <td>West South Central</td>\n      <td>South</td>\n      <td>...</td>\n      <td>Black or African American</td>\n      <td>NaN</td>\n      <td>1</td>\n      <td>Simple Assault</td>\n      <td>1.0</td>\n      <td>Highway/Road/Alley/Street/Sidewalk</td>\n      <td>Anti-White</td>\n      <td>Individual</td>\n      <td>S</td>\n      <td>S</td>\n    </tr>\n    <tr>\n      <th>2</th>\n      <td>43</td>\n      <td>1991</td>\n      <td>AR0350100</td>\n      <td>Pine Bluff</td>\n      <td>NaN</td>\n      <td>City</td>\n      <td>AR</td>\n      <td>Arkansas</td>\n      <td>West South Central</td>\n      <td>South</td>\n      <td>...</td>\n      <td>Black or African American</td>\n      <td>NaN</td>\n      <td>1</td>\n      <td>Aggravated Assault</td>\n      <td>1.0</td>\n      <td>Residence/Home</td>\n      <td>Anti-Black or African American</td>\n      <td>Individual</td>\n      <td>S</td>\n      <td>S</td>\n    </tr>\n    <tr>\n      <th>3</th>\n      <td>44</td>\n      <td>1991</td>\n      <td>AR0350100</td>\n      <td>Pine Bluff</td>\n      <td>NaN</td>\n      <td>City</td>\n      <td>AR</td>\n      <td>Arkansas</td>\n      <td>West South Central</td>\n      <td>South</td>\n      <td>...</td>\n      <td>Black or African American</td>\n      <td>NaN</td>\n      <td>2</td>\n      <td>Aggravated Assault;Destruction/Damage/Vandalis...</td>\n      <td>1.0</td>\n      <td>Highway/Road/Alley/Street/Sidewalk</td>\n      <td>Anti-White</td>\n      <td>Individual</td>\n      <td>M</td>\n      <td>S</td>\n    </tr>\n    <tr>\n      <th>4</th>\n      <td>3017</td>\n      <td>1991</td>\n      <td>AR0350100</td>\n      <td>Pine Bluff</td>\n      <td>NaN</td>\n      <td>City</td>\n      <td>AR</td>\n      <td>Arkansas</td>\n      <td>West South Central</td>\n      <td>South</td>\n      <td>...</td>\n      <td>Black or African American</td>\n      <td>NaN</td>\n      <td>1</td>\n      <td>Aggravated Assault</td>\n      <td>1.0</td>\n      <td>Service/Gas Station</td>\n      <td>Anti-White</td>\n      <td>Individual</td>\n      <td>S</td>\n      <td>S</td>\n    </tr>\n  </tbody>\n</table>\n<p>5 rows × 28 columns</p>\n</div>"
     },
     "metadata": {},
     "execution_count": 14
    }
   ],
   "source": [
    "hate_crimeDF = pd.read_csv('hate_crime.csv')\n",
    "hate_crimeDF.head()"
   ]
  },
  {
   "cell_type": "code",
   "execution_count": 16,
   "metadata": {},
   "outputs": [
    {
     "output_type": "execute_result",
     "data": {
      "text/plain": [
       "   INCIDENT_ID  DATA_YEAR PUB_AGENCY_NAME AGENCY_TYPE_NAME STATE_ABBR  \\\n",
       "0         3015       1991          Rogers             City         AR   \n",
       "1         3016       1991            Hope             City         AR   \n",
       "2           43       1991      Pine Bluff             City         AR   \n",
       "3           44       1991      Pine Bluff             City         AR   \n",
       "4         3017       1991      Pine Bluff             City         AR   \n",
       "\n",
       "  STATE_NAME REGION_NAME INCIDENT_DATE  TOTAL_INDIVIDUAL_VICTIMS  \n",
       "0   Arkansas       South     31-AUG-91                       1.0  \n",
       "1   Arkansas       South     19-SEP-91                       1.0  \n",
       "2   Arkansas       South     04-JUL-91                       1.0  \n",
       "3   Arkansas       South     24-DEC-91                       1.0  \n",
       "4   Arkansas       South     23-DEC-91                       1.0  "
      ],
      "text/html": "<div>\n<style scoped>\n    .dataframe tbody tr th:only-of-type {\n        vertical-align: middle;\n    }\n\n    .dataframe tbody tr th {\n        vertical-align: top;\n    }\n\n    .dataframe thead th {\n        text-align: right;\n    }\n</style>\n<table border=\"1\" class=\"dataframe\">\n  <thead>\n    <tr style=\"text-align: right;\">\n      <th></th>\n      <th>INCIDENT_ID</th>\n      <th>DATA_YEAR</th>\n      <th>PUB_AGENCY_NAME</th>\n      <th>AGENCY_TYPE_NAME</th>\n      <th>STATE_ABBR</th>\n      <th>STATE_NAME</th>\n      <th>REGION_NAME</th>\n      <th>INCIDENT_DATE</th>\n      <th>TOTAL_INDIVIDUAL_VICTIMS</th>\n    </tr>\n  </thead>\n  <tbody>\n    <tr>\n      <th>0</th>\n      <td>3015</td>\n      <td>1991</td>\n      <td>Rogers</td>\n      <td>City</td>\n      <td>AR</td>\n      <td>Arkansas</td>\n      <td>South</td>\n      <td>31-AUG-91</td>\n      <td>1.0</td>\n    </tr>\n    <tr>\n      <th>1</th>\n      <td>3016</td>\n      <td>1991</td>\n      <td>Hope</td>\n      <td>City</td>\n      <td>AR</td>\n      <td>Arkansas</td>\n      <td>South</td>\n      <td>19-SEP-91</td>\n      <td>1.0</td>\n    </tr>\n    <tr>\n      <th>2</th>\n      <td>43</td>\n      <td>1991</td>\n      <td>Pine Bluff</td>\n      <td>City</td>\n      <td>AR</td>\n      <td>Arkansas</td>\n      <td>South</td>\n      <td>04-JUL-91</td>\n      <td>1.0</td>\n    </tr>\n    <tr>\n      <th>3</th>\n      <td>44</td>\n      <td>1991</td>\n      <td>Pine Bluff</td>\n      <td>City</td>\n      <td>AR</td>\n      <td>Arkansas</td>\n      <td>South</td>\n      <td>24-DEC-91</td>\n      <td>1.0</td>\n    </tr>\n    <tr>\n      <th>4</th>\n      <td>3017</td>\n      <td>1991</td>\n      <td>Pine Bluff</td>\n      <td>City</td>\n      <td>AR</td>\n      <td>Arkansas</td>\n      <td>South</td>\n      <td>23-DEC-91</td>\n      <td>1.0</td>\n    </tr>\n  </tbody>\n</table>\n</div>"
     },
     "metadata": {},
     "execution_count": 16
    }
   ],
   "source": [
    "#dropping unnecessary rows\n",
    "to_drop = ['ORI',\n",
    "            'PUB_AGENCY_UNIT',\n",
    "            'DIVISION_NAME',\n",
    "            'OFFENDER_RACE',\n",
    "            'OFFENDER_ETHNICITY',\n",
    "            'VICTIM_COUNT',\n",
    "            'OFFENSE_NAME',\n",
    "            'LOCATION_NAME',\n",
    "            'BIAS_DESC',\n",
    "            'VICTIM_TYPES',\n",
    "            'MULTIPLE_OFFENSE',\n",
    "            'MULTIPLE_BIAS',\n",
    "            'POPULATION_GROUP_CODE',\n",
    "            'POPULATION_GROUP_DESC',\n",
    "            'ADULT_VICTIM_COUNT',\n",
    "            'JUVENILE_VICTIM_COUNT',\n",
    "            'TOTAL_OFFENDER_COUNT',\n",
    "            'ADULT_OFFENDER_COUNT',\n",
    "            'JUVENILE_OFFENDER_COUNT']\n",
    "hate_crimeDF.drop(to_drop, inplace=True, axis=1)\n",
    "hate_crimeDF.head()"
   ]
  },
  {
   "cell_type": "code",
   "execution_count": 17,
   "metadata": {},
   "outputs": [
    {
     "output_type": "execute_result",
     "data": {
      "text/plain": [
       "INCIDENT_ID                   int64\n",
       "DATA_YEAR                     int64\n",
       "PUB_AGENCY_NAME              object\n",
       "AGENCY_TYPE_NAME             object\n",
       "STATE_ABBR                   object\n",
       "STATE_NAME                   object\n",
       "REGION_NAME                  object\n",
       "INCIDENT_DATE                object\n",
       "TOTAL_INDIVIDUAL_VICTIMS    float64\n",
       "dtype: object"
      ]
     },
     "metadata": {},
     "execution_count": 17
    }
   ],
   "source": [
    "# Checking the data types of all columns\n",
    "hate_crimeDF.dtypes"
   ]
  },
  {
   "cell_type": "code",
   "execution_count": 18,
   "metadata": {},
   "outputs": [
    {
     "output_type": "execute_result",
     "data": {
      "text/plain": [
       "INCIDENT_ID                    0\n",
       "DATA_YEAR                      0\n",
       "PUB_AGENCY_NAME                0\n",
       "AGENCY_TYPE_NAME               0\n",
       "STATE_ABBR                     0\n",
       "STATE_NAME                     0\n",
       "REGION_NAME                    0\n",
       "INCIDENT_DATE                  0\n",
       "TOTAL_INDIVIDUAL_VICTIMS    1606\n",
       "dtype: int64"
      ]
     },
     "metadata": {},
     "execution_count": 18
    }
   ],
   "source": [
    "# Checking the whether the the row contains null values\n",
    "hate_crimeDF.isna().sum()"
   ]
  },
  {
   "cell_type": "code",
   "execution_count": 29,
   "metadata": {},
   "outputs": [
    {
     "output_type": "execute_result",
     "data": {
      "text/plain": [
       "INCIDENT_ID                 0\n",
       "DATA_YEAR                   0\n",
       "PUB_AGENCY_NAME             0\n",
       "AGENCY_TYPE_NAME            0\n",
       "STATE_ABBR                  0\n",
       "STATE_NAME                  0\n",
       "REGION_NAME                 0\n",
       "INCIDENT_DATE               0\n",
       "TOTAL_INDIVIDUAL_VICTIMS    0\n",
       "dtype: int64"
      ]
     },
     "metadata": {},
     "execution_count": 29
    }
   ],
   "source": [
    "#removing null values\n",
    "hate_crimeDF.dropna(axis=0, how='any', thresh=None, subset=['TOTAL_INDIVIDUAL_VICTIMS'], inplace=True)\n",
    "hate_crimeDF.isna().sum()"
   ]
  },
  {
   "cell_type": "code",
   "execution_count": 28,
   "metadata": {},
   "outputs": [
    {
     "output_type": "execute_result",
     "data": {
      "text/plain": [
       "   INCIDENT_ID  DATA_YEAR PUB_AGENCY_NAME AGENCY_TYPE_NAME STATE_ABBR  \\\n",
       "0         3015       1991          Rogers             City         AR   \n",
       "1         3016       1991            Hope             City         AR   \n",
       "2           43       1991      Pine Bluff             City         AR   \n",
       "3           44       1991      Pine Bluff             City         AR   \n",
       "4         3017       1991      Pine Bluff             City         AR   \n",
       "\n",
       "  STATE_NAME REGION_NAME INCIDENT_DATE  TOTAL_INDIVIDUAL_VICTIMS  \n",
       "0   Arkansas       South     31-AUG-91                       1.0  \n",
       "1   Arkansas       South     19-SEP-91                       1.0  \n",
       "2   Arkansas       South     04-JUL-91                       1.0  \n",
       "3   Arkansas       South     24-DEC-91                       1.0  \n",
       "4   Arkansas       South     23-DEC-91                       1.0  "
      ],
      "text/html": "<div>\n<style scoped>\n    .dataframe tbody tr th:only-of-type {\n        vertical-align: middle;\n    }\n\n    .dataframe tbody tr th {\n        vertical-align: top;\n    }\n\n    .dataframe thead th {\n        text-align: right;\n    }\n</style>\n<table border=\"1\" class=\"dataframe\">\n  <thead>\n    <tr style=\"text-align: right;\">\n      <th></th>\n      <th>INCIDENT_ID</th>\n      <th>DATA_YEAR</th>\n      <th>PUB_AGENCY_NAME</th>\n      <th>AGENCY_TYPE_NAME</th>\n      <th>STATE_ABBR</th>\n      <th>STATE_NAME</th>\n      <th>REGION_NAME</th>\n      <th>INCIDENT_DATE</th>\n      <th>TOTAL_INDIVIDUAL_VICTIMS</th>\n    </tr>\n  </thead>\n  <tbody>\n    <tr>\n      <th>0</th>\n      <td>3015</td>\n      <td>1991</td>\n      <td>Rogers</td>\n      <td>City</td>\n      <td>AR</td>\n      <td>Arkansas</td>\n      <td>South</td>\n      <td>31-AUG-91</td>\n      <td>1.0</td>\n    </tr>\n    <tr>\n      <th>1</th>\n      <td>3016</td>\n      <td>1991</td>\n      <td>Hope</td>\n      <td>City</td>\n      <td>AR</td>\n      <td>Arkansas</td>\n      <td>South</td>\n      <td>19-SEP-91</td>\n      <td>1.0</td>\n    </tr>\n    <tr>\n      <th>2</th>\n      <td>43</td>\n      <td>1991</td>\n      <td>Pine Bluff</td>\n      <td>City</td>\n      <td>AR</td>\n      <td>Arkansas</td>\n      <td>South</td>\n      <td>04-JUL-91</td>\n      <td>1.0</td>\n    </tr>\n    <tr>\n      <th>3</th>\n      <td>44</td>\n      <td>1991</td>\n      <td>Pine Bluff</td>\n      <td>City</td>\n      <td>AR</td>\n      <td>Arkansas</td>\n      <td>South</td>\n      <td>24-DEC-91</td>\n      <td>1.0</td>\n    </tr>\n    <tr>\n      <th>4</th>\n      <td>3017</td>\n      <td>1991</td>\n      <td>Pine Bluff</td>\n      <td>City</td>\n      <td>AR</td>\n      <td>Arkansas</td>\n      <td>South</td>\n      <td>23-DEC-91</td>\n      <td>1.0</td>\n    </tr>\n  </tbody>\n</table>\n</div>"
     },
     "metadata": {},
     "execution_count": 28
    }
   ],
   "source": [
    "hate_crimeDF.head()"
   ]
  },
  {
   "cell_type": "code",
   "execution_count": 30,
   "metadata": {},
   "outputs": [
    {
     "output_type": "execute_result",
     "data": {
      "text/plain": [
       "   incident_id  data_year pub_agency_name agency_type_name state_abbr  \\\n",
       "0         3015       1991          Rogers             City         AR   \n",
       "1         3016       1991            Hope             City         AR   \n",
       "2           43       1991      Pine Bluff             City         AR   \n",
       "3           44       1991      Pine Bluff             City         AR   \n",
       "4         3017       1991      Pine Bluff             City         AR   \n",
       "\n",
       "  state_name region_name incident_date  total_individual_victims  \n",
       "0   Arkansas       South     31-AUG-91                       1.0  \n",
       "1   Arkansas       South     19-SEP-91                       1.0  \n",
       "2   Arkansas       South     04-JUL-91                       1.0  \n",
       "3   Arkansas       South     24-DEC-91                       1.0  \n",
       "4   Arkansas       South     23-DEC-91                       1.0  "
      ],
      "text/html": "<div>\n<style scoped>\n    .dataframe tbody tr th:only-of-type {\n        vertical-align: middle;\n    }\n\n    .dataframe tbody tr th {\n        vertical-align: top;\n    }\n\n    .dataframe thead th {\n        text-align: right;\n    }\n</style>\n<table border=\"1\" class=\"dataframe\">\n  <thead>\n    <tr style=\"text-align: right;\">\n      <th></th>\n      <th>incident_id</th>\n      <th>data_year</th>\n      <th>pub_agency_name</th>\n      <th>agency_type_name</th>\n      <th>state_abbr</th>\n      <th>state_name</th>\n      <th>region_name</th>\n      <th>incident_date</th>\n      <th>total_individual_victims</th>\n    </tr>\n  </thead>\n  <tbody>\n    <tr>\n      <th>0</th>\n      <td>3015</td>\n      <td>1991</td>\n      <td>Rogers</td>\n      <td>City</td>\n      <td>AR</td>\n      <td>Arkansas</td>\n      <td>South</td>\n      <td>31-AUG-91</td>\n      <td>1.0</td>\n    </tr>\n    <tr>\n      <th>1</th>\n      <td>3016</td>\n      <td>1991</td>\n      <td>Hope</td>\n      <td>City</td>\n      <td>AR</td>\n      <td>Arkansas</td>\n      <td>South</td>\n      <td>19-SEP-91</td>\n      <td>1.0</td>\n    </tr>\n    <tr>\n      <th>2</th>\n      <td>43</td>\n      <td>1991</td>\n      <td>Pine Bluff</td>\n      <td>City</td>\n      <td>AR</td>\n      <td>Arkansas</td>\n      <td>South</td>\n      <td>04-JUL-91</td>\n      <td>1.0</td>\n    </tr>\n    <tr>\n      <th>3</th>\n      <td>44</td>\n      <td>1991</td>\n      <td>Pine Bluff</td>\n      <td>City</td>\n      <td>AR</td>\n      <td>Arkansas</td>\n      <td>South</td>\n      <td>24-DEC-91</td>\n      <td>1.0</td>\n    </tr>\n    <tr>\n      <th>4</th>\n      <td>3017</td>\n      <td>1991</td>\n      <td>Pine Bluff</td>\n      <td>City</td>\n      <td>AR</td>\n      <td>Arkansas</td>\n      <td>South</td>\n      <td>23-DEC-91</td>\n      <td>1.0</td>\n    </tr>\n  </tbody>\n</table>\n</div>"
     },
     "metadata": {},
     "execution_count": 30
    }
   ],
   "source": [
    "# Converting all the column heading to lower case \n",
    "hate_crimeDF = hate_crimeDF.rename(str.lower,axis='columns')\n",
    "hate_crimeDF.head()"
   ]
  },
  {
   "cell_type": "code",
   "execution_count": 38,
   "metadata": {},
   "outputs": [
    {
     "output_type": "stream",
     "name": "stdout",
     "text": [
      "       incident_id  data_year pub_agency_name agency_type_name state_abbr  \\\n11256        15761       1993       Anchorage             City         AK   \n11257        15762       1993       Anchorage             City         AK   \n11258        15763       1993       Anchorage             City         AK   \n11259        15764       1993       Anchorage             City         AK   \n11260        15765       1993       Anchorage             City         AK   \n\n      state_name region_name incident_date  total_individual_victims  \n11256     Alaska        West     14-FEB-93                       2.0  \n11257     Alaska        West     24-MAR-93                       2.0  \n11258     Alaska        West     02-JUL-93                       1.0  \n11259     Alaska        West     07-JUL-93                       1.0  \n11260     Alaska        West     12-JUL-93                       1.0  \n(188541, 9)\n"
     ]
    }
   ],
   "source": [
    "# removing years that are not in consideration of our study\n",
    "hate_crimeDF = hate_crimeDF[hate_crimeDF['data_year'] >= 1993]\n",
    "print(hate_crimeDF.head())\n",
    "print(hate_crimeDF.shape)"
   ]
  },
  {
   "cell_type": "code",
   "execution_count": 39,
   "metadata": {},
   "outputs": [],
   "source": [
    "#saving cleaned data csv\n",
    "hate_crimeDF.to_csv('cleaned_hate_crime.csv',index = False)"
   ]
  },
  {
   "cell_type": "code",
   "execution_count": null,
   "metadata": {},
   "outputs": [],
   "source": []
  }
 ]
}